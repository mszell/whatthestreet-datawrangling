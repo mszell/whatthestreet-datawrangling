{
 "cells": [
  {
   "cell_type": "code",
   "execution_count": null,
   "metadata": {
    "collapsed": true
   },
   "outputs": [],
   "source": [
    "%matplotlib inline"
   ]
  },
  {
   "cell_type": "markdown",
   "metadata": {},
   "source": [
    "# Create rail track table from ways, with unwind order and lengths 🚃 🚃 🚃\n",
    "\n",
    "This notebook assembles a table of rail tracks from already derived ways, determining track components and paths (unwind order) and track lengths.  \n",
    "\n",
    "**Derived railtracks and railtracksparking is dropped and re-inserted!** \n",
    "\n",
    "Created on:  2016-12-08  \n",
    "Last update: 2017-01-22  \n",
    "Contact: michael.szell@gmail.com (Michael Szell)"
   ]
  },
  {
   "cell_type": "markdown",
   "metadata": {},
   "source": [
    "## Preliminaries"
   ]
  },
  {
   "cell_type": "markdown",
   "metadata": {},
   "source": [
    "### Parameters"
   ]
  },
  {
   "cell_type": "code",
   "execution_count": null,
   "metadata": {
    "collapsed": true
   },
   "outputs": [],
   "source": [
    "cityname = \"berlin\"\n",
    "\n",
    "modes = [\"tram\", \"light_rail\", \"rail\", \"subway\", \"narrow_gauge\", \"funicular\", \"monorail\"]"
   ]
  },
  {
   "cell_type": "markdown",
   "metadata": {},
   "source": [
    "### Imports"
   ]
  },
  {
   "cell_type": "code",
   "execution_count": null,
   "metadata": {
    "collapsed": false
   },
   "outputs": [],
   "source": [
    "from __future__ import unicode_literals\n",
    "import sys\n",
    "import csv\n",
    "import os\n",
    "import math\n",
    "import pprint\n",
    "pp = pprint.PrettyPrinter(indent=4)\n",
    "import requests\n",
    "import gzip\n",
    "from collections import defaultdict\n",
    "import time\n",
    "import datetime\n",
    "import numpy as np\n",
    "from scipy import stats\n",
    "import pyprind\n",
    "import itertools\n",
    "import logging\n",
    "from ast import literal_eval as make_tuple\n",
    "from collections import OrderedDict\n",
    "from retrying import retry\n",
    "\n",
    "import osmnx as ox\n",
    "import networkx as nx\n",
    "import json\n",
    "from shapely.geometry import mapping, shape, LineString, LinearRing, Polygon, MultiPolygon\n",
    "import shapely\n",
    "import shapely.ops as ops\n",
    "from functools import partial\n",
    "import pyproj\n",
    "from scipy import spatial\n",
    "from haversine import haversine\n",
    "\n",
    "import pymongo\n",
    "from pymongo import MongoClient\n",
    "\n",
    "# plotting stuff\n",
    "import matplotlib.pyplot as plt"
   ]
  },
  {
   "cell_type": "markdown",
   "metadata": {},
   "source": [
    "### DB Connection"
   ]
  },
  {
   "cell_type": "code",
   "execution_count": null,
   "metadata": {
    "collapsed": true
   },
   "outputs": [],
   "source": [
    "client = MongoClient()\n",
    "db_raw = client[cityname+'_raw']\n",
    "ways_raw = db_raw['ways']\n",
    "nodes_raw = db_raw['nodes']\n",
    "db_derived = client[cityname+'_derived']\n",
    "railtracks = db_derived['railtracks']\n",
    "railtracksparking = db_derived['railtracksparking']\n",
    "ways_derived = db_derived['ways']"
   ]
  },
  {
   "cell_type": "markdown",
   "metadata": {},
   "source": [
    "### Functions"
   ]
  },
  {
   "cell_type": "code",
   "execution_count": null,
   "metadata": {
    "collapsed": false
   },
   "outputs": [],
   "source": [
    "def file_len(fname): # http://stackoverflow.com/questions/845058/how-to-get-line-count-cheaply-in-python\n",
    "    with open(fname) as f:\n",
    "        for i, l in enumerate(f):\n",
    "            pass\n",
    "    return i + 1\n",
    "\n",
    "def assembleRailTrack(ways_raw, ways_derived, nodes_raw, wayid, drawit = False, debug = False):\n",
    "    oxelements = []\n",
    "    elemnodesint = set()\n",
    "    elemnodesint_real = set()\n",
    "    elemways = []\n",
    "    elemnodes = []\n",
    "    nodesdict = {}\n",
    "    \n",
    "    for i,way in enumerate(ways_raw.find({\"_id\": wayid})):\n",
    "        for n in way[\"nodes\"]:\n",
    "            elemnodesint.add(int(n))\n",
    "\n",
    "    for n in elemnodesint:\n",
    "        for nd in nodes_raw.find({\"_id\": n}):\n",
    "            elemnodesint_real.add(int(nd[\"_id\"]))\n",
    "            elemnodes.append({\"id\": int(nd[\"_id\"]), \"lat\": nd[\"loc\"][\"coordinates\"][1], \"lon\": nd[\"loc\"][\"coordinates\"][0], \"type\": \"node\"})\n",
    "            nodesdict[str(int(nd[\"_id\"]))] = {\"lat\": nd[\"loc\"][\"coordinates\"][1], \"lon\": nd[\"loc\"][\"coordinates\"][0]}\n",
    "\n",
    "    tracklength = 0\n",
    "    for i,way in enumerate(ways_raw.find({\"_id\": wayid})):\n",
    "        wayinfo = ways_derived.find_one({\"_id\":int(way[\"_id\"])})\n",
    "        waylength = wayinfo[\"properties_derived\"][\"length\"]\n",
    "        tracklength += waylength\n",
    "        elemways.append({\"id\": int(way[\"_id\"]), \"nodes\":[int(way[\"nodes\"][k]) for k in range(len(way[\"nodes\"])) if int(way[\"nodes\"][k]) in elemnodesint_real], \"tags\": way[\"tags\"], \"type\": \"way\"})\n",
    "\n",
    "    oxelements = [{\"elements\": elemnodes + elemways}]\n",
    "    if debug:\n",
    "        # Check if nodes are missing\n",
    "        if len(elemnodesint_real) < len(elemnodesint):\n",
    "            print(str(len(elemnodesint)-len(elemnodesint_real)) + \" nodes are missing.\")\n",
    "        print(\"oxelements:\")\n",
    "        pp.pprint(oxelements)\n",
    "        \n",
    "    G = ox.create_graph(oxelements, retain_all=True)\n",
    "    if drawit:\n",
    "        fig, ax = ox.plot_graph(G)\n",
    "    G = nx.Graph(G)\n",
    "    G = G.to_undirected()\n",
    "    ccs = list(nx.connected_component_subgraphs(G))\n",
    "\n",
    "    components = []\n",
    "    for c in range(len(ccs)):\n",
    "        deglist = np.array(list((ccs[c].degree_iter())))\n",
    "        endptindices = np.where(deglist[:, 1] == 1)\n",
    "        # Look which of the endpoints lies most western, take that as the source for DFS traversal\n",
    "        west = float('inf')\n",
    "        source = deglist[0, 0]\n",
    "        for i in list(endptindices[0]):\n",
    "            westthis = nodesdict[str(deglist[i, 0])][\"lon\"]\n",
    "            if westthis < west:\n",
    "                source = deglist[i, 0]\n",
    "                west = westthis\n",
    "\n",
    "        component = []\n",
    "        dfsedges = list(nx.dfs_edges(ccs[c], source))\n",
    "        nend = dfsedges[0][0]\n",
    "        path = [str(nend)]\n",
    "        for e in dfsedges:\n",
    "            if e[0] == nend: # path grows\n",
    "                path.append(str(e[1]))\n",
    "            else: # new path\n",
    "                component.append(path)\n",
    "                path = [str(e[0]), str(e[1])]\n",
    "            nend = e[1]    \n",
    "        component.append(path) # last path\n",
    "        components.append(component)\n",
    "    \n",
    "    if \"name\" in way[\"tags\"]:\n",
    "        trackname = way[\"tags\"][\"name\"][\"name\"]\n",
    "    else:\n",
    "        trackname = \"\"\n",
    "    \n",
    "    if \"tracks\" in way[\"tags\"]:\n",
    "        tracknum = int(way[\"tags\"][\"tracks\"][\"tracks\"])\n",
    "    else:\n",
    "        tracknum = 1\n",
    "    \n",
    "    output = {\"tags\":{\"name\":trackname, \"length\": tracklength, \"tracks\": tracknum, \"railway\":way[\"tags\"][\"railway\"][\"railway\"]}, \"components\":components, \"nodes\":nodesdict, \"ways\":[elemways[k][\"id\"] for k in range(len(elemways))]}\n",
    "    return output"
   ]
  },
  {
   "cell_type": "markdown",
   "metadata": {},
   "source": [
    "## Active tracks"
   ]
  },
  {
   "cell_type": "code",
   "execution_count": null,
   "metadata": {
    "collapsed": false
   },
   "outputs": [],
   "source": [
    "railtracks.drop()  \n",
    "railtracks_error = []\n",
    "numtracks = {mode:0 for mode in modes}\n",
    "j = 1\n",
    "for mode in modes:\n",
    "    k = 0\n",
    "    # No service, or if service then crossover (since they are used for active trains)\n",
    "    for i,way in enumerate(ways_raw.find({\"$or\": [{\"$and\": [{\"tags.railway.railway\":mode}, {\"tags.service.service\": \"crossover\"}]}, {\"$and\": [{\"tags.railway.railway\":mode}, {\"tags.service.service\": {\"$exists\": False}}]}]})):\n",
    "        try:\n",
    "            res = assembleRailTrack(ways_raw, ways_derived, nodes_raw, way[\"_id\"])\n",
    "            res[\"_id\"] = j\n",
    "            j += 1\n",
    "            railtracks.update_one({\"_id\":res[\"_id\"]}, {\"$set\":res}, upsert=True)\n",
    "            k += 1\n",
    "        except:\n",
    "            railtracks_error.append(way[\"_id\"])\n",
    "    numtracks[mode] = k\n",
    "    print(\"Inserted \" + str(numtracks[mode]) + \" \" +str(mode)+ \" tracks in \" + cityname)\n",
    "\n",
    "with open(\"logs/\" + cityname +\"_railtrackserror.txt\", \"w\") as f: \n",
    "    for s in railtracks_error:\n",
    "        f.write(\"%s\\n\" % s)"
   ]
  },
  {
   "cell_type": "markdown",
   "metadata": {},
   "source": [
    "## Passive tracks (parking)"
   ]
  },
  {
   "cell_type": "code",
   "execution_count": null,
   "metadata": {
    "collapsed": false
   },
   "outputs": [],
   "source": [
    "railtracksparking.drop()  \n",
    "railtracksparking_error = []\n",
    "numtracks = {mode:0 for mode in modes}\n",
    "j = 1\n",
    "for mode in modes:\n",
    "    k = 0\n",
    "    # Only service except for crossover (since they are used for active trains)\n",
    "    for i,way in enumerate(ways_raw.find({\"$and\": [{\"tags.railway.railway\":mode}, {\"tags.service.service\": {\"$ne\": \"crossover\"}}, {\"tags.service.service\": {\"$exists\": True}}]})):\n",
    "        try:\n",
    "            res = assembleRailTrack(ways_raw, ways_derived, nodes_raw, way[\"_id\"])\n",
    "            res[\"_id\"] = j\n",
    "            j += 1\n",
    "            railtracksparking.update_one({\"_id\":res[\"_id\"]}, {\"$set\":res}, upsert=True)\n",
    "            k += 1\n",
    "        except:\n",
    "            railtracksparking_error.append(way[\"_id\"])\n",
    "    numtracks[mode] = k\n",
    "    print(\"Inserted \" + str(numtracks[mode]) + \" \" +str(mode)+ \" parking tracks in \" + cityname)\n",
    "\n",
    "with open(\"logs/\" + cityname +\"_railtracksparkingerror.txt\", \"w\") as f: \n",
    "    for s in railtracksparking_error:\n",
    "        f.write(\"%s\\n\" % s)"
   ]
  }
 ],
 "metadata": {
  "anaconda-cloud": {},
  "kernelspec": {
   "display_name": "Python [Root]",
   "language": "python",
   "name": "Python [Root]"
  },
  "language_info": {
   "codemirror_mode": {
    "name": "ipython",
    "version": 3
   },
   "file_extension": ".py",
   "mimetype": "text/x-python",
   "name": "python",
   "nbconvert_exporter": "python",
   "pygments_lexer": "ipython3",
   "version": "3.5.2"
  }
 },
 "nbformat": 4,
 "nbformat_minor": 0
}
