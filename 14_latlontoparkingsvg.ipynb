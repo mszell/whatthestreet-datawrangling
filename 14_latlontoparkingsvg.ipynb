{
 "cells": [
  {
   "cell_type": "code",
   "execution_count": null,
   "metadata": {
    "collapsed": true
   },
   "outputs": [],
   "source": [
    "%matplotlib inline"
   ]
  },
  {
   "cell_type": "markdown",
   "metadata": {},
   "source": [
    "# Add lat/lon coordinates to car parking SVGs, and order all parking SVGs by y-coodinate "
   ]
  },
  {
   "cell_type": "markdown",
   "metadata": {},
   "source": [
    "This notebook reads the car and bike parking SVGs for an array of cities, and reorders all polygons by y-coordinate. For cars, it additionally inserts the lat/lon coordinates of all polygons from mongodb.\n",
    "\n",
    "Created on:  2017-04-13  \n",
    "Last update: 2017-04-13  \n",
    "Contact: michael.szell@gmail.com (Michael Szell)"
   ]
  },
  {
   "cell_type": "markdown",
   "metadata": {},
   "source": [
    "## Preliminaries"
   ]
  },
  {
   "cell_type": "markdown",
   "metadata": {},
   "source": [
    "### Parameters"
   ]
  },
  {
   "cell_type": "code",
   "execution_count": null,
   "metadata": {
    "collapsed": true
   },
   "outputs": [],
   "source": [
    "citynames = [\"amsterdam\",\"berlin\",\"boston\",\"losangeles\",\"newyork\",\"portland\",\"sanfrancisco\",\"stuttgart\",\"vienna\"]\n",
    "citynames = [\"beijing\", \"budapest\", \"chicago\", \"copenhagen\", \"helsinki\", \"hongkong\", \"jakarta\", \"johannesburg\", \"london\", \"moscow\", \"rome\", \"singapore\", \"tokyo\"]\n"
   ]
  },
  {
   "cell_type": "markdown",
   "metadata": {},
   "source": [
    "### Imports"
   ]
  },
  {
   "cell_type": "code",
   "execution_count": null,
   "metadata": {
    "collapsed": true
   },
   "outputs": [],
   "source": [
    "from __future__ import unicode_literals\n",
    "import re\n",
    "from operator import itemgetter\n",
    "import sys\n",
    "import csv\n",
    "import os\n",
    "import math\n",
    "from random import shuffle, choice, uniform\n",
    "import random\n",
    "import pprint\n",
    "pp = pprint.PrettyPrinter(indent=4)\n",
    "from collections import defaultdict\n",
    "import time\n",
    "import datetime\n",
    "import numpy as np\n",
    "from numpy import *\n",
    "from scipy import stats\n",
    "import pyprind\n",
    "import itertools\n",
    "import logging\n",
    "from collections import OrderedDict\n",
    "\n",
    "import json\n",
    "from xml.dom import minidom\n",
    "from shapely.geometry import mapping, shape, LineString, LinearRing, Polygon, MultiPolygon\n",
    "import shapely\n",
    "import shapely.ops as ops\n",
    "from shapely import affinity\n",
    "from functools import partial\n",
    "import pyproj\n",
    "Projection = pyproj.Proj(\"+proj=merc +lon_0=0 +x_0=0 +y_0=0 +ellps=WGS84 +units=m +no_defs\")\n",
    "from scipy.ndimage.interpolation import rotate\n",
    "from scipy.spatial import ConvexHull\n",
    "\n",
    "import pymongo\n",
    "from pymongo import MongoClient\n"
   ]
  },
  {
   "cell_type": "code",
   "execution_count": null,
   "metadata": {},
   "outputs": [],
   "source": [
    "for cityname in citynames:\n",
    "    for mode in [\"bike\", \"car\"]:\n",
    "        pathdataout = 'output/'+cityname+'/'+mode+'out/'\n",
    "        \n",
    "        # RE-ORDER BY Y-VALUE\n",
    "        polygonstring = {}\n",
    "        yxvals = []\n",
    "        pids = []\n",
    "        with open(pathdataout + \"all.svg\") as f:\n",
    "            content = f.readlines()\n",
    "        content = [x.strip() for x in content] \n",
    "        header = content[0]\n",
    "        del content[0]\n",
    "        for line in content[:-1]:\n",
    "            pid = int(re.findall ( 'id=\"(.*?)\"', line, re.DOTALL)[0])\n",
    "            pids.append(pid)\n",
    "            polygonstring[pid] = line\n",
    "            points = re.findall ( 'points=\"(.*?)\" moovel_rot=', line, re.DOTALL)[0].strip().split(\" \")\n",
    "            points = [(x.split(\",\")) for x in points]\n",
    "            points = [(float(x[0]),float(x[1])) for x in points]\n",
    "            yxvals.append((min(points,key=itemgetter(1))[1], min(points,key=itemgetter(0))[0]))\n",
    "\n",
    "        # order lexicographically\n",
    "        sortorder = sorted(range(len(yxvals)),key=lambda x:yxvals[x])\n",
    "        svg = header+\"\\n\"\n",
    "        for s in sortorder:\n",
    "            svg += polygonstring[pids[s]]+\"\\n\"\n",
    "        svg += \"</svg>\"\n",
    "\n",
    "        # export (overwrite!)\n",
    "        with open(pathdataout + \"all.svg\", \"w\") as f:\n",
    "            f.write(svg)\n",
    "\n",
    "for cityname in citynames:\n",
    "    for mode in [\"car\"]: # does not work for bike, is fixed in 06\n",
    "        pathdataout = 'output/'+cityname+'/'+mode+'out/'\n",
    "        # ADD LAT/LON COORDINATES OF POLYGONS\n",
    "        client = MongoClient()\n",
    "        db = client[cityname+'_derived']\n",
    "        ways = db['ways']\n",
    "        cursor = ways.find({\"$and\": [{\"properties.amenity.amenity\": \"parking\"}, {\"geometry.type\": \"Polygon\"}, {\"properties_derived.area\": { \"$gte\": 12 }}]}).sort(\"properties_derived.area\",-1)\n",
    "        numparkingareas = cursor.count()\n",
    "        print(\"There are \" + str(numparkingareas) + \" \" + mode + \" parking spaces in \" + cityname)\n",
    "        \n",
    "        with open(pathdataout + \"all.svg\") as f:\n",
    "            content = f.readlines()\n",
    "        content = [x.strip() for x in content] \n",
    "        header = content[0]\n",
    "        del content[0]\n",
    "        svg = header+\"\\n\"\n",
    "        for line in content[:-1]:\n",
    "            pid = int(re.findall ( 'id=\"(.*?)\"', line, re.DOTALL)[0])\n",
    "            way = ways.find_one({\"_id\":pid})\n",
    "            coo = np.array(way[\"geometry\"][\"coordinates\"])\n",
    "            svgstring = \" moovel_pointslatlon=\\\"\"\n",
    "            strxylist = [str(coo[i][0])+\",\"+str(coo[i][1]) for i in range(coo.shape[0])]\n",
    "            for s in strxylist:\n",
    "                svgstring += s+\" \"\n",
    "            svg += line[:-2] + svgstring + \"\\\"\" + line[-2:]\n",
    "        svg += \"</svg>\"\n",
    "        # export (overwrite!)\n",
    "        with open(pathdataout + \"all.svg\", \"w\") as f:\n",
    "            f.write(svg)"
   ]
  }
 ],
 "metadata": {
  "anaconda-cloud": {},
  "kernelspec": {
   "display_name": "Python 3",
   "language": "python",
   "name": "python3"
  },
  "language_info": {
   "codemirror_mode": {
    "name": "ipython",
    "version": 3
   },
   "file_extension": ".py",
   "mimetype": "text/x-python",
   "name": "python",
   "nbconvert_exporter": "python",
   "pygments_lexer": "ipython3",
   "version": "3.6.0"
  }
 },
 "nbformat": 4,
 "nbformat_minor": 1
}
