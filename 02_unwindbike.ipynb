{
 "cells": [
  {
   "cell_type": "code",
   "execution_count": null,
   "metadata": {
    "collapsed": true
   },
   "outputs": [],
   "source": [
    "%matplotlib inline"
   ]
  },
  {
   "cell_type": "markdown",
   "metadata": {},
   "source": [
    "# Create bike track table from ways, with unwind order and lengths 🚲 🚲 🚲\n",
    "\n",
    "This notebook assembles a table of bike tracks from already derived ways, determining track components and paths (unwind order) and track lengths. Tracks with the same name are merged.  \n",
    "\n",
    "**Derived biketracks is dropped and re-inserted!**\n",
    "\n",
    "Created on:  2016-12-07  \n",
    "Last update: 2017-01-22  \n",
    "Contact: michael.szell@gmail.com (Michael Szell)"
   ]
  },
  {
   "cell_type": "markdown",
   "metadata": {},
   "source": [
    "## Preliminaries"
   ]
  },
  {
   "cell_type": "markdown",
   "metadata": {},
   "source": [
    "### Parameters"
   ]
  },
  {
   "cell_type": "code",
   "execution_count": null,
   "metadata": {
    "collapsed": true
   },
   "outputs": [],
   "source": [
    "cityname = \"vienna\""
   ]
  },
  {
   "cell_type": "markdown",
   "metadata": {},
   "source": [
    "### Imports"
   ]
  },
  {
   "cell_type": "code",
   "execution_count": null,
   "metadata": {
    "collapsed": false
   },
   "outputs": [],
   "source": [
    "# preliminaries\n",
    "from __future__ import unicode_literals\n",
    "import sys\n",
    "import re\n",
    "import csv\n",
    "import os\n",
    "import math\n",
    "import pprint\n",
    "pp = pprint.PrettyPrinter(indent=4)\n",
    "import requests\n",
    "import gzip\n",
    "from collections import defaultdict\n",
    "import time\n",
    "import datetime\n",
    "import numpy as np\n",
    "from scipy import stats\n",
    "import pyprind\n",
    "import itertools\n",
    "import logging\n",
    "from ast import literal_eval as make_tuple\n",
    "from collections import OrderedDict\n",
    "from retrying import retry\n",
    "\n",
    "import osmnx as ox\n",
    "import networkx as nx\n",
    "import json\n",
    "from shapely.geometry import mapping, shape, LineString, LinearRing, Polygon, MultiPolygon\n",
    "import shapely\n",
    "import shapely.ops as ops\n",
    "from functools import partial\n",
    "import pyproj\n",
    "from scipy import spatial\n",
    "from haversine import haversine\n",
    "\n",
    "import pymongo\n",
    "from pymongo import MongoClient\n",
    "\n",
    "# plotting stuff\n",
    "import matplotlib.pyplot as plt"
   ]
  },
  {
   "cell_type": "markdown",
   "metadata": {},
   "source": [
    "### DB Connection"
   ]
  },
  {
   "cell_type": "code",
   "execution_count": null,
   "metadata": {
    "collapsed": true
   },
   "outputs": [],
   "source": [
    "client = MongoClient()\n",
    "db_raw = client[cityname+'_raw']\n",
    "ways_raw = db_raw['ways']\n",
    "nodes_raw = db_raw['nodes']\n",
    "db_derived = client[cityname+'_derived']\n",
    "biketracks = db_derived['biketracks']\n",
    "ways_derived = db_derived['ways']"
   ]
  },
  {
   "cell_type": "markdown",
   "metadata": {},
   "source": [
    "### Functions"
   ]
  },
  {
   "cell_type": "code",
   "execution_count": null,
   "metadata": {
    "collapsed": false
   },
   "outputs": [],
   "source": [
    "def isbiketrack(wayinfo):\n",
    "    if \"properties\" in wayinfo:\n",
    "        try:\n",
    "            if \"highway\" in wayinfo[\"properties\"]:\n",
    "                if wayinfo[\"properties\"][\"highway\"][\"highway\"] == \"cycleway\":\n",
    "                    return True\n",
    "            if \"bicycle\" in wayinfo[\"properties\"]:\n",
    "                if wayinfo[\"properties\"][\"bicycle\"][\"bicycle\"] == \"designated\":\n",
    "                    return True    \n",
    "            if \"cycleway\" in wayinfo[\"properties\"]:\n",
    "                if wayinfo[\"properties\"][\"cycleway\"][\"cycleway\"] == \"track\":\n",
    "                    return True\n",
    "        except: \n",
    "            pass\n",
    "    return False\n",
    "        \n",
    "def assembleBikeTrack(ways_raw, ways_derived, nodes_raw, wayid, biketrackname, drawit = False, debug = False):\n",
    "    oxelements = []\n",
    "    elemnodesint = set()\n",
    "    elemnodesint_real = set()\n",
    "    elemways = []\n",
    "    elemnodes = []\n",
    "    nodesdict = {}\n",
    "    biketrackwidth = 0\n",
    "        \n",
    "    if biketrackname: # merge same-named bike tracks\n",
    "        cursor = ways_raw.find({\"tags.name.name\": biketrackname})\n",
    "    else: # just the way\n",
    "        cursor = ways_raw.find({\"_id\": wayid})\n",
    "        \n",
    "        \n",
    "    for i,way in enumerate(cursor):\n",
    "        wayinfo = ways_derived.find_one({\"_id\":int(way[\"_id\"])})\n",
    "        if isbiketrack(wayinfo):\n",
    "            if not biketrackwidth and \"width\" in way[\"tags\"]:\n",
    "                try:\n",
    "                    biketrackwidth = float(way[\"tags\"][\"width\"][\"width\"])\n",
    "                except: # check for width in feet\n",
    "                    if str(way[\"tags\"][\"width\"][\"width\"]).find(\"'\") > -1:\n",
    "                        feetwidth = float(re.sub(\"[^0-9]\", \"\", way[\"tags\"][\"width\"][\"width\"]))\n",
    "                        biketrackwidth = feetwidth * 0.3048      \n",
    "            for n in way[\"nodes\"]:\n",
    "                elemnodesint.add(int(n))\n",
    "\n",
    "    for n in elemnodesint:\n",
    "        for nd in nodes_raw.find({\"_id\": n}):\n",
    "            elemnodesint_real.add(int(nd[\"_id\"]))\n",
    "            elemnodes.append({\"id\": int(nd[\"_id\"]), \"lat\": nd[\"loc\"][\"coordinates\"][1], \"lon\": nd[\"loc\"][\"coordinates\"][0], \"type\": \"node\"})\n",
    "            nodesdict[str(int(nd[\"_id\"]))] = {\"lat\": nd[\"loc\"][\"coordinates\"][1], \"lon\": nd[\"loc\"][\"coordinates\"][0]}\n",
    "\n",
    "    biketracklength = 0\n",
    "    if biketrackname: # merge same-named bike tracks\n",
    "        cursor = ways_raw.find({\"tags.name.name\": biketrackname})                               \n",
    "    else: # just the way\n",
    "        cursor = ways_raw.find({\"_id\": wayid})\n",
    "        \n",
    "    for i,way in enumerate(cursor):\n",
    "        wayinfo = ways_derived.find_one({\"_id\":int(way[\"_id\"])})\n",
    "        if isbiketrack(wayinfo):\n",
    "            waylength = wayinfo[\"properties_derived\"][\"length\"]\n",
    "            biketracklength += waylength\n",
    "            elemways.append({\"id\": int(way[\"_id\"]), \"nodes\":[int(way[\"nodes\"][k]) for k in range(len(way[\"nodes\"])) if int(way[\"nodes\"][k]) in elemnodesint_real], \"tags\": way[\"tags\"], \"type\": \"way\"})\n",
    "\n",
    "    oxelements = [{\"elements\": elemnodes + elemways}]\n",
    "    if debug:\n",
    "        # Check if nodes are missing\n",
    "        if len(elemnodesint_real) < len(elemnodesint):\n",
    "            print(str(len(elemnodesint)-len(elemnodesint_real)) + \" nodes are missing.\")\n",
    "        print(\"oxelements:\")\n",
    "        pp.pprint(oxelements)\n",
    "        \n",
    "    G = ox.create_graph(oxelements, retain_all=True)\n",
    "    if drawit:\n",
    "        fig, ax = ox.plot_graph(G)\n",
    "    G = nx.Graph(G)\n",
    "    G = G.to_undirected()\n",
    "    ccs = list(nx.connected_component_subgraphs(G))\n",
    "\n",
    "    components = []\n",
    "    for c in range(len(ccs)):\n",
    "        deglist = np.array(list((ccs[c].degree_iter())))\n",
    "        endptindices = np.where(deglist[:, 1] == 1)\n",
    "        # Look which of the endpoints lies most western, take that as the source for DFS traversal\n",
    "        west = float('inf')\n",
    "        source = deglist[0, 0]\n",
    "        for i in list(endptindices[0]):\n",
    "            westthis = nodesdict[str(deglist[i, 0])][\"lon\"]\n",
    "            if westthis < west:\n",
    "                source = deglist[i, 0]\n",
    "                west = westthis\n",
    "\n",
    "        component = []\n",
    "        dfsedges = list(nx.dfs_edges(ccs[c], source))\n",
    "        nend = dfsedges[0][0]\n",
    "        path = [str(nend)]\n",
    "        for e in dfsedges:\n",
    "            if e[0] == nend: # path grows\n",
    "                path.append(str(e[1]))\n",
    "            else: # new path\n",
    "                component.append(path)\n",
    "                path = [str(e[0]), str(e[1])]\n",
    "            nend = e[1]    \n",
    "        component.append(path) # last path\n",
    "        components.append(component)\n",
    "    \n",
    "    output = {\"tags\":{\"name\":biketrackname, \"length\": biketracklength, \"width\": biketrackwidth}, \"components\":components, \"nodes\":nodesdict, \"ways\":[elemways[k][\"id\"] for k in range(len(elemways))]}\n",
    "    return output"
   ]
  },
  {
   "cell_type": "code",
   "execution_count": null,
   "metadata": {
    "collapsed": false
   },
   "outputs": [],
   "source": [
    "biketracks.drop()  \n",
    "biketracks_error = []\n",
    "biketracknamesused = set()\n",
    "cursor = ways_raw.find({\"$or\": [{\"tags.highway.highway\":\"cycleway\"},{\"tags.bicycle.bicycle\":\"designated\"}, {\"tags.cycleway.cycleway\":\"track\"}]})\n",
    "bar = pyprind.ProgBar(cursor.count(), bar_char='█', update_interval=1)\n",
    "for i,way in enumerate(cursor):\n",
    "    try:\n",
    "        if \"name\" in way[\"tags\"]:\n",
    "            thisname = way[\"tags\"][\"name\"][\"name\"]\n",
    "        else:\n",
    "            thisname = \"\"\n",
    "        if not thisname or (thisname and thisname not in biketracknamesused):\n",
    "            res = assembleBikeTrack(ways_raw, ways_derived, nodes_raw, way[\"_id\"], thisname)\n",
    "            res[\"_id\"] = i+1\n",
    "            biketracks.update_one({\"_id\":res[\"_id\"]}, {\"$set\":res}, upsert=True)\n",
    "            if thisname:\n",
    "                biketracknamesused.add(thisname)\n",
    "    except:\n",
    "        biketracks_error.append(way[\"_id\"])\n",
    "    bar.update(item_id = i)\n",
    "    \n",
    "with open(\"logs/\" + cityname +\"_biketrackserror.txt\", \"w\") as f: \n",
    "    for s in biketracks_error:\n",
    "        f.write(\"%s\\n\" % s)\n",
    "        \n",
    "with open(\"citydata/\" + cityname +\"_biketracknames.txt\", \"w\") as f: \n",
    "    for s in biketracknamesused:\n",
    "        f.write(\"%s\\n\" % s)"
   ]
  }
 ],
 "metadata": {
  "anaconda-cloud": {},
  "kernelspec": {
   "display_name": "Python [Root]",
   "language": "python",
   "name": "Python [Root]"
  },
  "language_info": {
   "codemirror_mode": {
    "name": "ipython",
    "version": 3
   },
   "file_extension": ".py",
   "mimetype": "text/x-python",
   "name": "python",
   "nbconvert_exporter": "python",
   "pygments_lexer": "ipython3",
   "version": "3.5.2"
  }
 },
 "nbformat": 4,
 "nbformat_minor": 0
}
