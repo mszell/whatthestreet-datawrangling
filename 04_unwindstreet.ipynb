{
 "cells": [
  {
   "cell_type": "code",
   "execution_count": null,
   "metadata": {
    "collapsed": true
   },
   "outputs": [],
   "source": [
    "%matplotlib inline"
   ]
  },
  {
   "cell_type": "markdown",
   "metadata": {},
   "source": [
    "# Create car street table from ways, with unwind order and lengths 🚗 🚗 🚗\n",
    "\n",
    "This notebook assembles a table of streets from already derived ways, determining street components and paths (unwind order) and street lengths.  \n",
    "\n",
    "**Derived streets is dropped and re-inserted!** \n",
    "\n",
    "Created on:  2016-11-15  \n",
    "Last update: 2017-01-22  \n",
    "Contact: michael.szell@gmail.com (Michael Szell)"
   ]
  },
  {
   "cell_type": "markdown",
   "metadata": {},
   "source": [
    "## Preliminaries"
   ]
  },
  {
   "cell_type": "markdown",
   "metadata": {},
   "source": [
    "### Parameters"
   ]
  },
  {
   "cell_type": "code",
   "execution_count": null,
   "metadata": {
    "collapsed": true
   },
   "outputs": [],
   "source": [
    "cityname = \"amsterdam\""
   ]
  },
  {
   "cell_type": "markdown",
   "metadata": {},
   "source": [
    "### Imports"
   ]
  },
  {
   "cell_type": "code",
   "execution_count": null,
   "metadata": {
    "collapsed": false
   },
   "outputs": [],
   "source": [
    "from __future__ import unicode_literals\n",
    "import sys\n",
    "import csv\n",
    "import os\n",
    "import math\n",
    "import pprint\n",
    "pp = pprint.PrettyPrinter(indent=4)\n",
    "import requests\n",
    "import gzip\n",
    "from collections import defaultdict\n",
    "import time\n",
    "import datetime\n",
    "import numpy as np\n",
    "from scipy import stats\n",
    "import pyprind\n",
    "import itertools\n",
    "import logging\n",
    "from ast import literal_eval as make_tuple\n",
    "from collections import OrderedDict\n",
    "from retrying import retry\n",
    "\n",
    "import osmnx as ox\n",
    "import networkx as nx\n",
    "import json\n",
    "from shapely.geometry import mapping, shape, LineString, LinearRing, Polygon, MultiPolygon\n",
    "import shapely\n",
    "import shapely.ops as ops\n",
    "from functools import partial\n",
    "import pyproj\n",
    "from scipy import spatial\n",
    "from haversine import haversine\n",
    "\n",
    "import pymongo\n",
    "from pymongo import MongoClient\n",
    "\n",
    "# plotting stuff\n",
    "import matplotlib.pyplot as plt\n",
    "\n",
    "with open(\"citydata/\" + cityname +\"_streetnames.txt\", \"r\") as ins:\n",
    "    streetnames = []\n",
    "    for line in ins:\n",
    "        streetnames.append(line.rstrip('\\n'))"
   ]
  },
  {
   "cell_type": "markdown",
   "metadata": {},
   "source": [
    "### DB Connection"
   ]
  },
  {
   "cell_type": "code",
   "execution_count": null,
   "metadata": {
    "collapsed": true
   },
   "outputs": [],
   "source": [
    "client = MongoClient()\n",
    "db_raw = client[cityname+'_raw']\n",
    "ways_raw = db_raw['ways']\n",
    "nodes_raw = db_raw['nodes']\n",
    "db_derived = client[cityname+'_derived']\n",
    "streets = db_derived['streets']\n",
    "ways_derived = db_derived['ways']"
   ]
  },
  {
   "cell_type": "markdown",
   "metadata": {},
   "source": [
    "### Functions"
   ]
  },
  {
   "cell_type": "code",
   "execution_count": null,
   "metadata": {
    "collapsed": false
   },
   "outputs": [],
   "source": [
    "def file_len(fname): # http://stackoverflow.com/questions/845058/how-to-get-line-count-cheaply-in-python\n",
    "    with open(fname) as f:\n",
    "        for i, l in enumerate(f):\n",
    "            pass\n",
    "    return i + 1\n",
    "\n",
    "def assembleStreet(ways_raw, ways_derived, nodes_raw, streetname = \"Achillesstraße\", drawit = False, debug = False):\n",
    "    oxelements = []\n",
    "    elemnodesint = set()\n",
    "    elemnodesint_real = set()\n",
    "    elemways = []\n",
    "    elemnodes = []\n",
    "    nodesdict = {}\n",
    "    lanes = 0\n",
    "    # We include service roads if they have the same name\n",
    "    for i,way in enumerate(ways_raw.find({\"$and\": [{\"tags.name.name\":streetname},{\"$or\": [{\"tags.highway.highway\":\"service\"},{\"tags.highway.highway\":\"residential\"},{\"tags.highway.highway\":\"primary\"}, {\"tags.highway.highway\":\"secondary\"}, {\"tags.highway.highway\":\"tertiary\"},{\"tags.highway.highway\":\"unclassified\"}]}]})):\n",
    "        if \"public_transport\" not in way[\"tags\"]:\n",
    "            for n in way[\"nodes\"]:\n",
    "                elemnodesint.add(int(n))\n",
    "\n",
    "    for n in elemnodesint:\n",
    "        for nd in nodes_raw.find({\"_id\": n}):\n",
    "            elemnodesint_real.add(int(nd[\"_id\"]))\n",
    "            elemnodes.append({\"id\": int(nd[\"_id\"]), \"lat\": nd[\"loc\"][\"coordinates\"][1], \"lon\": nd[\"loc\"][\"coordinates\"][0], \"type\": \"node\"})\n",
    "            nodesdict[str(int(nd[\"_id\"]))] = {\"lat\": nd[\"loc\"][\"coordinates\"][1], \"lon\": nd[\"loc\"][\"coordinates\"][0]}\n",
    "\n",
    "    streetlength = 0\n",
    "    for i,way in enumerate(ways_raw.find({\"$and\": [{\"tags.name.name\":streetname},{\"$or\": [{\"tags.highway.highway\":\"service\"},{\"tags.highway.highway\":\"residential\"},{\"tags.highway.highway\":\"primary\"}, {\"tags.highway.highway\":\"secondary\"}, {\"tags.highway.highway\":\"tertiary\"},{\"tags.highway.highway\":\"unclassified\"}]}]})):\n",
    "        if \"public_transport\" not in way[\"tags\"]:\n",
    "            wayinfo = ways_derived.find_one({\"_id\":int(way[\"_id\"])})\n",
    "            waylength = wayinfo[\"properties_derived\"][\"length\"]\n",
    "            streetlength += waylength\n",
    "            if \"lanes\" in way[\"tags\"]:\n",
    "                try:\n",
    "                    lanes = int(way[\"tags\"][\"lanes\"][\"lanes\"])\n",
    "                except:\n",
    "                    pass\n",
    "            elemways.append({\"id\": int(way[\"_id\"]), \"nodes\":[int(way[\"nodes\"][k]) for k in range(len(way[\"nodes\"])) if int(way[\"nodes\"][k]) in elemnodesint_real], \"tags\": way[\"tags\"], \"type\": \"way\"})\n",
    "\n",
    "    oxelements = [{\"elements\": elemnodes + elemways}]\n",
    "    if debug:\n",
    "        # Check if nodes are missing\n",
    "        if len(elemnodesint_real) < len(elemnodesint):\n",
    "            print(str(len(elemnodesint)-len(elemnodesint_real)) + \" nodes are missing.\")\n",
    "        print(\"oxelements:\")\n",
    "        pp.pprint(oxelements)\n",
    "        \n",
    "    G = ox.create_graph(oxelements, retain_all=True)\n",
    "    if drawit:\n",
    "        fig, ax = ox.plot_graph(G)\n",
    "    G = nx.Graph(G)\n",
    "    G = G.to_undirected()\n",
    "    ccs = list(nx.connected_component_subgraphs(G))\n",
    "\n",
    "    components = []\n",
    "    for c in range(len(ccs)):\n",
    "        deglist = np.array(list((ccs[c].degree_iter())))\n",
    "        endptindices = np.where(deglist[:, 1] == 1)\n",
    "        # Look which of the endpoints lies most western, take that as the source for DFS traversal\n",
    "        west = float('inf')\n",
    "        source = deglist[0, 0]\n",
    "        for i in list(endptindices[0]):\n",
    "            westthis = nodesdict[str(deglist[i, 0])][\"lon\"]\n",
    "            if westthis < west:\n",
    "                source = deglist[i, 0]\n",
    "                west = westthis\n",
    "\n",
    "        component = []\n",
    "        dfsedges = list(nx.dfs_edges(ccs[c], source))\n",
    "        nend = dfsedges[0][0]\n",
    "        path = [str(nend)]\n",
    "        for e in dfsedges:\n",
    "            if e[0] == nend: # path grows\n",
    "                path.append(str(e[1]))\n",
    "            else: # new path\n",
    "                component.append(path)\n",
    "                path = [str(e[0]), str(e[1])]\n",
    "            nend = e[1]    \n",
    "        component.append(path) # last path\n",
    "        components.append(component) \n",
    " \n",
    "    output = {\"tags\":{\"name\":streetname, \"length\": streetlength, \"lanes\": lanes}, \"components\":components, \"nodes\":nodesdict, \"ways\":[elemways[k][\"id\"] for k in range(len(elemways))]}\n",
    "    return output"
   ]
  },
  {
   "cell_type": "markdown",
   "metadata": {},
   "source": [
    "## Assemble streets and unwind orders"
   ]
  },
  {
   "cell_type": "code",
   "execution_count": null,
   "metadata": {
    "collapsed": false
   },
   "outputs": [],
   "source": [
    "streets.drop()  \n",
    "bar = pyprind.ProgBar(len(streetnames), bar_char='█', update_interval=1)\n",
    "streetnames_error = []\n",
    "for i,streetname in enumerate(streetnames):\n",
    "    try:\n",
    "        res = assembleStreet(ways_raw, ways_derived, nodes_raw, streetname)\n",
    "        res[\"_id\"] = i+1\n",
    "        streets.update_one({\"_id\":res[\"_id\"]}, {\"$set\":res}, upsert=True)\n",
    "    except:\n",
    "        streetnames_error.append(streetname)\n",
    "    bar.update(item_id = streetname)\n",
    "    \n",
    "with open(\"logs/\" + cityname +\"_streetnameserror.txt\", \"w\") as f: \n",
    "    for s in streetnames_error:\n",
    "        f.write(\"%s\\n\" % s)"
   ]
  },
  {
   "cell_type": "markdown",
   "metadata": {},
   "source": [
    "### Tests"
   ]
  },
  {
   "cell_type": "code",
   "execution_count": null,
   "metadata": {
    "collapsed": false
   },
   "outputs": [],
   "source": [
    "test = assembleStreet(ways_raw, ways_derived, nodes_raw, \"Schillerstraße\", True, True)"
   ]
  },
  {
   "cell_type": "code",
   "execution_count": null,
   "metadata": {
    "collapsed": true
   },
   "outputs": [],
   "source": [
    "# Test case. To get its output, insert this in the above function after oxelements = [{\"elements\": elemnodes + elemways}]\n",
    "oxelements = [{\"elements\": [{   'id': 1,\n",
    "                            'lat': 0,\n",
    "                            'lon': -1,\n",
    "                            'type': 'node'},\n",
    "                            {   'id': 2,\n",
    "                            'lat': 0,\n",
    "                            'lon': 1,\n",
    "                            'type': 'node'},\n",
    "                            {   'id': 3,\n",
    "                            'lat': -1,\n",
    "                            'lon': 1,\n",
    "                            'type': 'node'},\n",
    "                            {   'id': 4,\n",
    "                            'lat': -2,\n",
    "                            'lon': 1,\n",
    "                            'type': 'node'},\n",
    "                            {   'id': 5,\n",
    "                            'lat': 0,\n",
    "                            'lon': 2,\n",
    "                            'type': 'node'},\n",
    "                            {   'id': 6,\n",
    "                            'lat': -1,\n",
    "                            'lon': 0,\n",
    "                            'type': 'node'},\n",
    "                            {   'id': 7,\n",
    "                            'lat': 0,\n",
    "                            'lon': 3,\n",
    "                            'type': 'node'},\n",
    "                            {   'id': 8,\n",
    "                            'lat': -1,\n",
    "                            'lon': 4,\n",
    "                            'type': 'node'},\n",
    "                            {   'id': 91,\n",
    "                            'nodes': [1, 2, 3],\n",
    "                            'type': 'way'},\n",
    "                            {   'id': 92,\n",
    "                            'nodes': [2, 5],\n",
    "                            'type': 'way'},\n",
    "                            {   'id': 93,\n",
    "                            'nodes': [3, 4],\n",
    "                            'type': 'way'},\n",
    "                            {   'id': 94,\n",
    "                            'nodes': [6, 3],\n",
    "                            'type': 'way'},\n",
    "                            {   'id': 95,\n",
    "                            'nodes': [7, 8],\n",
    "                            'type': 'way'}\n",
    "                           ]}]    \n",
    "nodesdict = {\"1\":{'lat': 0, 'lon': -1}, \n",
    "            \"2\":{'lat': 0, 'lon': 1}, \n",
    "            \"3\":{'lat': -1, 'lon': 1}, \n",
    "            \"4\":{'lat': -2, 'lon': 1}, \n",
    "            \"5\":{'lat': 0, 'lon': 2}, \n",
    "            \"6\":{'lat': -1, 'lon': 0}, \n",
    "            \"7\":{'lat': 0, 'lon': 3}, \n",
    "            \"8\":{'lat': -1, 'lon': 4}\n",
    "            }"
   ]
  }
 ],
 "metadata": {
  "anaconda-cloud": {},
  "kernelspec": {
   "display_name": "Python [Root]",
   "language": "python",
   "name": "Python [Root]"
  },
  "language_info": {
   "codemirror_mode": {
    "name": "ipython",
    "version": 3
   },
   "file_extension": ".py",
   "mimetype": "text/x-python",
   "name": "python",
   "nbconvert_exporter": "python",
   "pygments_lexer": "ipython3",
   "version": "3.5.2"
  }
 },
 "nbformat": 4,
 "nbformat_minor": 0
}
