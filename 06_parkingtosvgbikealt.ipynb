{
 "cells": [
  {
   "cell_type": "code",
   "execution_count": null,
   "metadata": {
    "collapsed": true
   },
   "outputs": [],
   "source": [
    "%matplotlib inline"
   ]
  },
  {
   "cell_type": "markdown",
   "metadata": {},
   "source": [
    "# Alternative: Extract bike parking spaces from mongoDB, export as SVG for nesting 🚲 🚲 🚲"
   ]
  },
  {
   "cell_type": "markdown",
   "metadata": {},
   "source": [
    "This notebook extracts geometries (areas, like polygons of parking spaces) from a mongoDB, then exports all areas in an svg file for nesting with SVGNest. This is an alternative to be used when parkingtosvgbike fails! Only one bin is used in total for all parking spaces and spot parking spaces.\n",
    "\n",
    "Created on:  2016-12-14  \n",
    "Last update: 2017-04-13  \n",
    "Contact: michael.szell@gmail.com (Michael Szell)"
   ]
  },
  {
   "cell_type": "markdown",
   "metadata": {},
   "source": [
    "## Preliminaries"
   ]
  },
  {
   "cell_type": "markdown",
   "metadata": {},
   "source": [
    "### Parameters"
   ]
  },
  {
   "cell_type": "code",
   "execution_count": null,
   "metadata": {
    "collapsed": true
   },
   "outputs": [],
   "source": [
    "cityname = \"singapore\"\n",
    "\n",
    "mode = \"bike\" # do bike here. car is another file\n",
    "bikeparkw = 0.8\n",
    "bikeparkh = 2\n",
    "\n",
    "pathdatain = 'output/'+cityname+'/'+mode+'in/'\n",
    "pathdataout = 'output/'+cityname+'/'+mode+'out/'\n",
    "\n",
    "# manually excluding nodes that are tagged in OSM both as polygon and node\n",
    "excludenodes = [1616515071, 1455723400]"
   ]
  },
  {
   "cell_type": "markdown",
   "metadata": {},
   "source": [
    "### Imports"
   ]
  },
  {
   "cell_type": "code",
   "execution_count": null,
   "metadata": {},
   "outputs": [],
   "source": [
    "from __future__ import unicode_literals\n",
    "import sys\n",
    "import csv\n",
    "import os\n",
    "import math\n",
    "from random import shuffle, choice, uniform\n",
    "import random\n",
    "import pprint\n",
    "pp = pprint.PrettyPrinter(indent=4)\n",
    "from collections import defaultdict\n",
    "import time\n",
    "import datetime\n",
    "import numpy as np\n",
    "from numpy import *\n",
    "from scipy import stats\n",
    "import pyprind\n",
    "import itertools\n",
    "import logging\n",
    "from ast import literal_eval as make_tuple\n",
    "from collections import OrderedDict\n",
    "from retrying import retry\n",
    "from copy import deepcopy\n",
    "\n",
    "import json\n",
    "from xml.dom import minidom\n",
    "from shapely.geometry import mapping, shape, LineString, LinearRing, Polygon, MultiPolygon\n",
    "import shapely\n",
    "import shapely.ops as ops\n",
    "from shapely import affinity\n",
    "from functools import partial\n",
    "import pyproj\n",
    "Projection = pyproj.Proj(\"+proj=merc +lon_0=0 +x_0=0 +y_0=0 +ellps=WGS84 +units=m +no_defs\")\n",
    "from scipy import spatial\n",
    "from haversine import haversine\n",
    "from scipy.ndimage.interpolation import rotate\n",
    "from scipy.spatial import ConvexHull\n",
    "\n",
    "import pymongo\n",
    "from pymongo import MongoClient\n",
    "\n",
    "# plotting stuff\n",
    "import matplotlib.pyplot as plt"
   ]
  },
  {
   "cell_type": "markdown",
   "metadata": {},
   "source": [
    "### DB Connection"
   ]
  },
  {
   "cell_type": "code",
   "execution_count": null,
   "metadata": {},
   "outputs": [],
   "source": [
    "client = MongoClient()\n",
    "db_derived = client[cityname+'_derived']\n",
    "ways = db_derived['ways']\n",
    "cursor = ways.find({\"$and\": [{\"properties.amenity.amenity\": \"bicycle_parking\"}, {\"geometry.type\": \"Polygon\"}, {\"properties_derived.area\": { \"$gte\": 1 }}]}).sort(\"properties_derived.area\",-1)\n",
    "numparkingareas = cursor.count()\n",
    "print(\"There are \" + str(numparkingareas) + \" \" + mode + \" parking spaces in \" + cityname)\n",
    "\n",
    "db_raw = client[cityname+'_raw']\n",
    "nodes = db_raw['nodes']\n",
    "cursornodes = nodes.find({\"$and\": [{\"tags.amenity.amenity\": \"bicycle_parking\"}, { \"tags.capacity.capacity\": { \"$exists\": True }}]})\n",
    "numparkingspots = cursornodes.count()\n",
    "print(\"There are \" + str(numparkingspots) + \" \" + mode + \" parking spots in \" + cityname)\n"
   ]
  },
  {
   "cell_type": "markdown",
   "metadata": {},
   "source": [
    "### Functions"
   ]
  },
  {
   "cell_type": "code",
   "execution_count": null,
   "metadata": {},
   "outputs": [],
   "source": [
    "def coordinatesToSVGString(coo, coolatlon, xoffset = 0, yoffset = 0, idname = \"\", classname = \"\", rot = 0, centroidlatlon = [0,0]):\n",
    "    svgstring = \"\\n  <polygon\"\n",
    "    if idname:\n",
    "        svgstring += \" id=\\\"\"+idname+\"\\\"\"\n",
    "    if classname:\n",
    "        svgstring += \" class=\\\"\"+classname+\"\\\"\"\n",
    "    svgstring += \" points=\\\"\"\n",
    "    strxylist = [str(coo[i][0]+xoffset)+\",\"+str(coo[i][1]+yoffset) for i in range(coo.shape[0])]\n",
    "    for s in strxylist:\n",
    "        svgstring += s+\" \"\n",
    "    svgstring += \"\\\"\"\n",
    "    svgstring += \" moovel_rot=\\\"\"+str(rot)+\"\\\"\" # pseudo-namespace, because svgnest strips namespace info. http://stackoverflow.com/questions/15532371/do-svg-docs-support-custom-data-attributes\n",
    "    centroid = [Polygon(coo).centroid.x, Polygon(coo).centroid.y]\n",
    "    svgstring += \" moovel_centroid=\\\"\"+str(centroid[0]+xoffset)+\",\"+str(centroid[1]+yoffset)+\"\\\"\"\n",
    "    svgstring += \" moovel_centroidlatlon=\\\"\"+str(centroidlatlon[0])+\",\"+str(centroidlatlon[1])+\"\\\"\"\n",
    "    svgstring += \" moovel_pointslatlon=\\\"\"\n",
    "    strxylist = [str(coolatlon[i][0])+\",\"+str(coolatlon[i][1]) for i in range(coolatlon.shape[0])]\n",
    "    for s in strxylist:\n",
    "        svgstring += s+\" \"\n",
    "    svgstring += \"\\\"\"\n",
    "    svgstring += \"/>\"\n",
    "    return svgstring\n",
    "    \n",
    "def rotationToSmallestWidthRecursive(poly, maxdepth = 3, w = float(\"inf\"), rot = 0, rotdelta = 10, depth = 1): # poly is a shapely polygon\n",
    "    # unit: degrees\n",
    "    # returns the angle the polygon needs to be rotated to be at minimum width\n",
    "    # Note: Is not guaranteed to converge to the global minimum\n",
    "    # Requires import numpy as np, from shapely import affinity\n",
    "    if depth <= maxdepth:\n",
    "        for theta in np.arange(rot-rotdelta*9, rot+rotdelta*9, rotdelta):\n",
    "            temp = affinity.rotate(poly, theta, origin='centroid')\n",
    "            x, y = temp.exterior.coords.xy\n",
    "            temp = np.array([[x[i],y[i]] for i in range(len(x))])\n",
    "            objectwidth = max(temp[:, 0])-min(temp[:, 0])\n",
    "            if objectwidth < w:\n",
    "                w = objectwidth\n",
    "                rot = theta\n",
    "        return rotationToSmallestWidthRecursive(poly, maxdepth, w, rot, rotdelta/10, depth+1)\n",
    "    else:\n",
    "        return rot"
   ]
  },
  {
   "cell_type": "markdown",
   "metadata": {},
   "source": [
    "## Get parking spaces for one SVG bin"
   ]
  },
  {
   "cell_type": "code",
   "execution_count": null,
   "metadata": {
    "scrolled": false
   },
   "outputs": [],
   "source": [
    "cursor = ways.find({\"$and\": [{\"properties.amenity.amenity\": \"bicycle_parking\"}, {\"geometry.type\": \"Polygon\"}, {\"properties_derived.area\": { \"$gte\": 1 }}]}).sort(\"properties_derived.area\",-1)\n",
    "cursornodes = nodes.find({\"$and\": [{\"tags.amenity.amenity\": \"bicycle_parking\"}, { \"tags.capacity.capacity\": { \"$exists\": True }}]})\n",
    "\n",
    "random.seed(1)\n",
    "scale = 0.6\n",
    "erectparts = True\n",
    "randomrotateparts = False\n",
    "smallvsmedium = 11\n",
    "buffereps = 5 # should be the same number as the distances between parts in SVGNest\n",
    "height = 1200\n",
    "width = 600-1.5*buffereps\n",
    "eps = 0.000001\n",
    "\n",
    "# pre-select all parts\n",
    "idsused = set()\n",
    "idsnotused = set()\n",
    "alltiles = []\n",
    "alltileskeys = []\n",
    "alltilesarea = 0\n",
    "areasall = []\n",
    "maxheight = 0\n",
    "for i,way in enumerate(cursor):\n",
    "    npway = np.asarray(way[\"geometry\"][\"coordinates\"])\n",
    "    centroidlatlon = [Polygon(npway).centroid.x, Polygon(npway).centroid.y]\n",
    "    npwayxy = [Projection(npway[i][0], npway[i][1]) for i in range(npway.shape[0])]\n",
    "    npwayxy = np.asarray([[npwayxy[i][0],-npwayxy[i][1]] for i in range(npway.shape[0])])\n",
    "    if erectparts:\n",
    "        rot = 90+rotationToSmallestWidthRecursive(Polygon(npwayxy))\n",
    "    elif randomrotateparts:\n",
    "        rot = uniform(10, 350)\n",
    "    else:\n",
    "        rot = 0\n",
    "    if rot:\n",
    "        temp = affinity.rotate(Polygon(npwayxy), rot, origin='centroid', use_radians=False)\n",
    "        x, y = temp.exterior.coords.xy\n",
    "        npwayxy = np.array([[x[i],y[i]] for i in range(len(x))])\n",
    "    objectwidth = max(npwayxy[:, 0])-min(npwayxy[:, 0])\n",
    "    npwayxy[:, 0] -= min(npwayxy[:, 0])\n",
    "    npwayxy[:, 1] -= min(npwayxy[:, 1])\n",
    "    npwayxy *= scale\n",
    "    objectwidth *= scale\n",
    "    if objectwidth < width:\n",
    "        objectheight = max(npwayxy[:, 1])\n",
    "        maxheight = max([maxheight, objectheight])\n",
    "        idsnotused.add(int(way[\"_id\"]))\n",
    "        coo = [[npwayxy[k][0], npwayxy[k][1]] for k in range(npwayxy.shape[0])]\n",
    "        coolatlon = [[npway[k][0], npway[k][1]] for k in range(npway.shape[0])]\n",
    "        areasall.append(Polygon(coo).area)\n",
    "        area = Polygon(coo).buffer(buffereps/2).area\n",
    "        alltiles.append( { \"_id\": int(way[\"_id\"]), \"width\": objectwidth, \"height\": objectheight, \"area\": area, \"coordinates\": coo , \"coordinateslatlon\": coolatlon, \"rot\": rot, \"centroidlatlon\": centroidlatlon})\n",
    "        alltileskeys.append(int(way[\"_id\"]))\n",
    "        alltilesarea += area\n",
    "    else:\n",
    "        print(\"Object \"+str(way[\"_id\"])+\" was too wide (\" +str(objectwidth)+ \" pixel) and was ignored.\")\n",
    "        \n",
    "# Generation of polygons from point parking\n",
    "capacitiesall = []\n",
    "for i,node in enumerate(cursornodes):\n",
    "    try: # sometimes capacity is not an integer\n",
    "        capacity = int(node[\"tags\"][\"capacity\"][\"capacity\"])\n",
    "    except:\n",
    "        capacity = 0\n",
    "    if capacity and node[\"_id\"] not in excludenodes:\n",
    "        centroidlatlon = node[\"loc\"][\"coordinates\"]\n",
    "        if capacity <= 20:\n",
    "            xd = capacity*bikeparkw/2\n",
    "            yd = bikeparkh/2\n",
    "        else:\n",
    "            xd = math.sqrt(capacity)*bikeparkh/2\n",
    "            yd = math.sqrt(capacity)*bikeparkw/2\n",
    "        npwayxy = [[-xd, -yd], [xd, -yd], [xd, yd], [-xd, yd]]\n",
    "        npwayxy = np.asarray([[npwayxy[i][0],-npwayxy[i][1]] for i in range(4)])\n",
    "        objectwidth = max(npwayxy[:, 0])-min(npwayxy[:, 0])\n",
    "        npwayxy[:, 0] -= min(npwayxy[:, 0])\n",
    "        npwayxy[:, 1] -= min(npwayxy[:, 1])\n",
    "        npwayxy *= scale\n",
    "        objectwidth *= scale\n",
    "        if objectwidth < width:\n",
    "            objectheight = max(npwayxy[:, 1])\n",
    "            maxheight = max([maxheight, objectheight])\n",
    "            idsnotused.add(int(node[\"_id\"]))\n",
    "            coo = [[npwayxy[k][0], npwayxy[k][1]] for k in range(npwayxy.shape[0])]\n",
    "            coolatlon = [centroidlatlon, centroidlatlon, centroidlatlon, centroidlatlon]\n",
    "            areasall.append(Polygon(coo).area)\n",
    "            area = Polygon(coo).buffer(buffereps/2).area\n",
    "            alltiles.append( { \"_id\": int(node[\"_id\"]), \"width\": objectwidth, \"height\": objectheight, \"area\": area, \"coordinates\": coo , \"coordinateslatlon\": coolatlon, \"rot\": rot, \"centroidlatlon\": centroidlatlon})\n",
    "            alltileskeys.append(int(node[\"_id\"]))\n",
    "            alltilesarea += area\n",
    "            capacitiesall.append(capacity)\n",
    "        else:\n",
    "            print(\"Object \"+str(node[\"_id\"])+\" was too wide (\" +str(objectwidth)+ \" pixel) and was ignored.\")\n",
    "sortind = [i[0] for i in sorted(enumerate(areasall), key=lambda x:x[1], reverse=True)]\n",
    "\n",
    "# Parking spaces and spots in one\n",
    "bigbin = Polygon([[0,0], [width,0], [width, height], [0, height]])\n",
    "bigbinarea = bigbin.area\n",
    "# change the big bin area according to the tiles area\n",
    "heightbigbin = max([1.28 * height * alltilesarea/bigbinarea, maxheight*1.05])\n",
    "bigbin = Polygon([[0,0], [width,0], [width, heightbigbin], [0, heightbigbin]])     \n",
    "# Fill with parts\n",
    "binbound = np.array(bigbin.exterior.coords)\n",
    "xpos = 0\n",
    "ypos = 0\n",
    "yextent = 0\n",
    "svg = \"<svg xmlns=\\\"http://www.w3.org/2000/svg\\\" version=\\\"1.1\\\" width=\\\"\"+str(width)+\"px\\\" height=\\\"\"+str(heightbigbin)+\"px\\\">\"\n",
    "cnt = 0\n",
    "for j in sortind:\n",
    "    if len(idsnotused) == 0:\n",
    "        break\n",
    "    tile = alltiles[j]\n",
    "    if tile[\"width\"] <= width:\n",
    "        if xpos + tile[\"width\"] + 1 <= width: # there is space in this row\n",
    "            xdelta = (xpos+1)\n",
    "            ydelta = ypos\n",
    "        else: # new row\n",
    "            xdelta = 0\n",
    "            ypos += yextent+buffereps\n",
    "            yextent = 0\n",
    "            ydelta = ypos\n",
    "            xpos = 0\n",
    "        svg += coordinatesToSVGString(np.array([[tile[\"coordinates\"][k][0], tile[\"coordinates\"][k][1]] for k in range(np.array(tile[\"coordinates\"]).shape[0])]), np.array([[tile[\"coordinateslatlon\"][k][0], tile[\"coordinateslatlon\"][k][1]] for k in range(np.array(tile[\"coordinateslatlon\"]).shape[0])]), xdelta, ydelta, str(tile[\"_id\"]), \"tile\", tile[\"rot\"], tile[\"centroidlatlon\"])\n",
    "        yextent = max([yextent, tile[\"height\"]])\n",
    "        xpos += tile[\"width\"]+buffereps\n",
    "        idsused.add(tile[\"_id\"])\n",
    "        idsnotused.remove(tile[\"_id\"])\n",
    "        cnt += 1\n",
    "    else:\n",
    "        print(\"Object \"+str(way[\"_id\"])+\" was too wide (\" +str(max(npwayxy[:, 0]))+ \" pixel) and could not be placed.\")\n",
    "svg += \"\\n</svg>\"\n",
    "with open(pathdataout + \"all.svg\", \"w\") as f:\n",
    "    f.write(svg)\n",
    "    \n",
    "\n",
    "print(\"Export done. \" + str(len(idsnotused))+\" tiles were not used.\")"
   ]
  },
  {
   "cell_type": "markdown",
   "metadata": {},
   "source": [
    "The result is a file in {{pathdataout}}. No use of SVGNest required."
   ]
  }
 ],
 "metadata": {
  "anaconda-cloud": {},
  "kernelspec": {
   "display_name": "Python 3",
   "language": "python",
   "name": "python3"
  },
  "language_info": {
   "codemirror_mode": {
    "name": "ipython",
    "version": 3
   },
   "file_extension": ".py",
   "mimetype": "text/x-python",
   "name": "python",
   "nbconvert_exporter": "python",
   "pygments_lexer": "ipython3",
   "version": "3.6.0"
  }
 },
 "nbformat": 4,
 "nbformat_minor": 1
}
